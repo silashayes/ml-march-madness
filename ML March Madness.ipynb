{
 "cells": [
  {
   "cell_type": "markdown",
   "id": "be82ec27",
   "metadata": {},
   "source": [
    "# Predicting March Madness"
   ]
  },
  {
   "cell_type": "markdown",
   "id": "30b88d47",
   "metadata": {},
   "source": [
    "The goal of this project is to use multiple different machine learning methods on similar data to predict the results of the NCAA tournament."
   ]
  },
  {
   "cell_type": "markdown",
   "id": "1e8c37ab",
   "metadata": {},
   "source": [
    "# Imports"
   ]
  },
  {
   "cell_type": "markdown",
   "id": "f848d17b",
   "metadata": {},
   "source": [
    "The dataset I'll be using comes from Kaggle's March Madness Mania 2023 challenge: https://www.kaggle.com/competitions/mens-march-mania-2023/data. The specific tables I'm using look at teams' rankings in different systems, each team's conference, their seed in the tournament, and each regular season result. I am going to limit my dataset to 2010's season and onward as 3-point shooting had not developed to its modern form until recently."
   ]
  },
  {
   "cell_type": "code",
   "execution_count": 71,
   "id": "a35ec0f5",
   "metadata": {},
   "outputs": [],
   "source": [
    "import pandas as pd\n",
    "import numpy as np\n",
    "import statsmodels.api as sm\n",
    "import statsmodels.formula.api as smf"
   ]
  },
  {
   "cell_type": "code",
   "execution_count": 63,
   "id": "8d9cf4b5",
   "metadata": {},
   "outputs": [
    {
     "data": {
      "text/html": [
       "<div>\n",
       "<style scoped>\n",
       "    .dataframe tbody tr th:only-of-type {\n",
       "        vertical-align: middle;\n",
       "    }\n",
       "\n",
       "    .dataframe tbody tr th {\n",
       "        vertical-align: top;\n",
       "    }\n",
       "\n",
       "    .dataframe thead th {\n",
       "        text-align: right;\n",
       "    }\n",
       "</style>\n",
       "<table border=\"1\" class=\"dataframe\">\n",
       "  <thead>\n",
       "    <tr style=\"text-align: right;\">\n",
       "      <th></th>\n",
       "      <th>Season</th>\n",
       "      <th>SystemName</th>\n",
       "      <th>TeamID</th>\n",
       "      <th>OrdinalRank</th>\n",
       "    </tr>\n",
       "  </thead>\n",
       "  <tbody>\n",
       "    <tr>\n",
       "      <th>1239532</th>\n",
       "      <td>2010</td>\n",
       "      <td>AP</td>\n",
       "      <td>1124</td>\n",
       "      <td>19</td>\n",
       "    </tr>\n",
       "  </tbody>\n",
       "</table>\n",
       "</div>"
      ],
      "text/plain": [
       "         Season SystemName  TeamID  OrdinalRank\n",
       "1239532    2010         AP    1124           19"
      ]
     },
     "execution_count": 63,
     "metadata": {},
     "output_type": "execute_result"
    }
   ],
   "source": [
    "ordinals = pd.read_csv(\"MMasseyOrdinals.csv\")\n",
    "ordinals = ordinals[(ordinals[\"RankingDayNum\"] == 133) & (ordinals[\"Season\"]>2009)]\n",
    "ordinals = ordinals.drop(\"RankingDayNum\", axis=1)\n",
    "ordinals.head(1)"
   ]
  },
  {
   "cell_type": "code",
   "execution_count": 49,
   "id": "de9ba026",
   "metadata": {},
   "outputs": [
    {
     "data": {
      "text/html": [
       "<div>\n",
       "<style scoped>\n",
       "    .dataframe tbody tr th:only-of-type {\n",
       "        vertical-align: middle;\n",
       "    }\n",
       "\n",
       "    .dataframe tbody tr th {\n",
       "        vertical-align: top;\n",
       "    }\n",
       "\n",
       "    .dataframe thead th {\n",
       "        text-align: right;\n",
       "    }\n",
       "</style>\n",
       "<table border=\"1\" class=\"dataframe\">\n",
       "  <thead>\n",
       "    <tr style=\"text-align: right;\">\n",
       "      <th></th>\n",
       "      <th>Season</th>\n",
       "      <th>WTeamID</th>\n",
       "      <th>WScore</th>\n",
       "      <th>LTeamID</th>\n",
       "      <th>LScore</th>\n",
       "    </tr>\n",
       "  </thead>\n",
       "  <tbody>\n",
       "    <tr>\n",
       "      <th>1584</th>\n",
       "      <td>2010</td>\n",
       "      <td>1115</td>\n",
       "      <td>61</td>\n",
       "      <td>1457</td>\n",
       "      <td>44</td>\n",
       "    </tr>\n",
       "  </tbody>\n",
       "</table>\n",
       "</div>"
      ],
      "text/plain": [
       "      Season  WTeamID  WScore  LTeamID  LScore\n",
       "1584    2010     1115      61     1457      44"
      ]
     },
     "execution_count": 49,
     "metadata": {},
     "output_type": "execute_result"
    }
   ],
   "source": [
    "tourney = pd.read_csv(\"MNCAATourneyCompactResults.csv\")\n",
    "tourney = tourney.drop([\"WLoc\", \"NumOT\", \"DayNum\"], axis=1)\n",
    "tourney = tourney[tourney[\"Season\"]>2009]\n",
    "tourney.head(1)"
   ]
  },
  {
   "cell_type": "markdown",
   "id": "e98e0487",
   "metadata": {},
   "source": [
    "# Investigating Ordinal Ranks"
   ]
  },
  {
   "cell_type": "markdown",
   "id": "6f2738ca",
   "metadata": {},
   "source": [
    "I would like to simplify my model by either selecting only a single ordinal ranking system or by creating my own aggregate ranking based on multiple ranking systems."
   ]
  },
  {
   "cell_type": "code",
   "execution_count": 59,
   "id": "6c167096",
   "metadata": {},
   "outputs": [],
   "source": [
    "def simple_df_transform(df):\n",
    "    \"\"\"Input a dataframe with columns 'Season', 'WTeamID', 'WScore', 'LTeamID', and 'LScore'.\n",
    "    Return a new dataframe with 'Season', 'Team1', 'Team2', and 'Result' (0 if Team1 lost, 1 if Team1 won).\n",
    "    The resulting dataframe will evenly and randomly split the data so half are losses and half are wins.\"\"\"\n",
    "    #Create the structure of the new dataframe (all wins for now)\n",
    "    new_df = pd.DataFrame()\n",
    "    new_df[\"Season\"] = df[\"Season\"]\n",
    "    new_df[\"Team1\"] = df[\"WTeamID\"]\n",
    "    new_df[\"Team2\"] = df[\"LTeamID\"]\n",
    "    new_df[\"Result\"] =  1\n",
    "    \n",
    "    #sample half of games to become losses\n",
    "    losses = new_df.sample(frac=0.5)\n",
    "    drop_losses = losses.index\n",
    "    new_df = new_df.drop(drop_losses)\n",
    "    \n",
    "    #create a dataframe of losses with same structure as wins\n",
    "    losses_df = pd.DataFrame()\n",
    "    losses_df[\"Season\"] = losses[\"Season\"]\n",
    "    losses_df[\"Team1\"] = losses[\"Team2\"]\n",
    "    losses_df[\"Team2\"] = losses[\"Team1\"]\n",
    "    losses_df[\"Result\"] = 0\n",
    "    \n",
    "    #return concatenated loss and win dataframes\n",
    "    return pd.concat([new_df, losses_df]).sort_index()"
   ]
  },
  {
   "cell_type": "code",
   "execution_count": 60,
   "id": "c4963d68",
   "metadata": {},
   "outputs": [
    {
     "data": {
      "text/html": [
       "<div>\n",
       "<style scoped>\n",
       "    .dataframe tbody tr th:only-of-type {\n",
       "        vertical-align: middle;\n",
       "    }\n",
       "\n",
       "    .dataframe tbody tr th {\n",
       "        vertical-align: top;\n",
       "    }\n",
       "\n",
       "    .dataframe thead th {\n",
       "        text-align: right;\n",
       "    }\n",
       "</style>\n",
       "<table border=\"1\" class=\"dataframe\">\n",
       "  <thead>\n",
       "    <tr style=\"text-align: right;\">\n",
       "      <th></th>\n",
       "      <th>Season</th>\n",
       "      <th>Team1</th>\n",
       "      <th>Team2</th>\n",
       "      <th>Result</th>\n",
       "    </tr>\n",
       "  </thead>\n",
       "  <tbody>\n",
       "    <tr>\n",
       "      <th>1584</th>\n",
       "      <td>2010</td>\n",
       "      <td>1115</td>\n",
       "      <td>1457</td>\n",
       "      <td>1</td>\n",
       "    </tr>\n",
       "  </tbody>\n",
       "</table>\n",
       "</div>"
      ],
      "text/plain": [
       "      Season  Team1  Team2  Result\n",
       "1584    2010   1115   1457       1"
      ]
     },
     "execution_count": 60,
     "metadata": {},
     "output_type": "execute_result"
    }
   ],
   "source": [
    "tourney_df = simple_df_transform(tourney)\n",
    "tourney_df.head(1)"
   ]
  },
  {
   "cell_type": "code",
   "execution_count": 76,
   "id": "4f48b923",
   "metadata": {},
   "outputs": [
    {
     "name": "stdout",
     "output_type": "stream",
     "text": [
      "800\n",
      "261860\n",
      "3387178\n"
     ]
    },
    {
     "data": {
      "text/html": [
       "<div>\n",
       "<style scoped>\n",
       "    .dataframe tbody tr th:only-of-type {\n",
       "        vertical-align: middle;\n",
       "    }\n",
       "\n",
       "    .dataframe tbody tr th {\n",
       "        vertical-align: top;\n",
       "    }\n",
       "\n",
       "    .dataframe thead th {\n",
       "        text-align: right;\n",
       "    }\n",
       "</style>\n",
       "<table border=\"1\" class=\"dataframe\">\n",
       "  <thead>\n",
       "    <tr style=\"text-align: right;\">\n",
       "      <th></th>\n",
       "      <th>Season</th>\n",
       "      <th>Team1</th>\n",
       "      <th>Team2</th>\n",
       "      <th>Result</th>\n",
       "      <th>SystemName1</th>\n",
       "      <th>OrdinalRank1</th>\n",
       "      <th>SystemName2</th>\n",
       "      <th>OrdinalRank2</th>\n",
       "    </tr>\n",
       "  </thead>\n",
       "  <tbody>\n",
       "    <tr>\n",
       "      <th>0</th>\n",
       "      <td>2010</td>\n",
       "      <td>1115.0</td>\n",
       "      <td>1457.0</td>\n",
       "      <td>1.0</td>\n",
       "      <td>BIH</td>\n",
       "      <td>224.0</td>\n",
       "      <td>BIH</td>\n",
       "      <td>203.0</td>\n",
       "    </tr>\n",
       "    <tr>\n",
       "      <th>1</th>\n",
       "      <td>2010</td>\n",
       "      <td>1115.0</td>\n",
       "      <td>1457.0</td>\n",
       "      <td>1.0</td>\n",
       "      <td>BIH</td>\n",
       "      <td>224.0</td>\n",
       "      <td>BOB</td>\n",
       "      <td>198.0</td>\n",
       "    </tr>\n",
       "  </tbody>\n",
       "</table>\n",
       "</div>"
      ],
      "text/plain": [
       "   Season   Team1   Team2  Result SystemName1  OrdinalRank1 SystemName2  \\\n",
       "0    2010  1115.0  1457.0     1.0         BIH         224.0         BIH   \n",
       "1    2010  1115.0  1457.0     1.0         BIH         224.0         BOB   \n",
       "\n",
       "   OrdinalRank2  \n",
       "0         203.0  \n",
       "1         198.0  "
      ]
     },
     "execution_count": 76,
     "metadata": {},
     "output_type": "execute_result"
    }
   ],
   "source": [
    "#merge Team1 IDs\n",
    "print(len(tourney_df))\n",
    "ordinals1 = ordinals.rename(columns = {\"TeamID\": \"Team1\"})\n",
    "team1_merged = tourney_df.merge(ordinals1, how=\"outer\", on=[\"Season\", \"Team1\"])\n",
    "team1_merged.rename(columns = {\"SystemName\": \"SystemName1\", \"OrdinalRank\": \"OrdinalRank1\"}, inplace=True)\n",
    "print(len(team1_merged))\n",
    "\n",
    "#merge Team2 IDs\n",
    "ordinals2 = ordinals.rename(columns = {\"TeamID\": \"Team2\"})\n",
    "games_and_ranks = team1_merged.merge(ordinals2, how=\"outer\", on=[\"Season\", \"Team2\"])\n",
    "games_and_ranks.rename(columns = {\"SystemName\": \"SystemName2\", \"OrdinalRank\": \"OrdinalRank2\"}, inplace=True)\n",
    "print(len(games_and_ranks))\n",
    "games_and_ranks.head(2)"
   ]
  },
  {
   "cell_type": "code",
   "execution_count": 82,
   "id": "7f871ce6",
   "metadata": {},
   "outputs": [
    {
     "name": "stderr",
     "output_type": "stream",
     "text": [
      "/var/folders/dy/02vq48tn28l7g1y86391j3300000gn/T/ipykernel_13019/62555471.py:3: SettingWithCopyWarning: \n",
      "A value is trying to be set on a copy of a slice from a DataFrame.\n",
      "Try using .loc[row_indexer,col_indexer] = value instead\n",
      "\n",
      "See the caveats in the documentation: https://pandas.pydata.org/pandas-docs/stable/user_guide/indexing.html#returning-a-view-versus-a-copy\n",
      "  ordinal_tourney[\"RankDiff\"] = ordinal_tourney[\"OrdinalRank1\"] - ordinal_tourney[\"OrdinalRank2\"]\n"
     ]
    },
    {
     "data": {
      "text/html": [
       "<div>\n",
       "<style scoped>\n",
       "    .dataframe tbody tr th:only-of-type {\n",
       "        vertical-align: middle;\n",
       "    }\n",
       "\n",
       "    .dataframe tbody tr th {\n",
       "        vertical-align: top;\n",
       "    }\n",
       "\n",
       "    .dataframe thead th {\n",
       "        text-align: right;\n",
       "    }\n",
       "</style>\n",
       "<table border=\"1\" class=\"dataframe\">\n",
       "  <thead>\n",
       "    <tr style=\"text-align: right;\">\n",
       "      <th></th>\n",
       "      <th>Season</th>\n",
       "      <th>Team1</th>\n",
       "      <th>Team2</th>\n",
       "      <th>Result</th>\n",
       "      <th>SystemName1</th>\n",
       "      <th>OrdinalRank1</th>\n",
       "      <th>SystemName2</th>\n",
       "      <th>OrdinalRank2</th>\n",
       "      <th>RankDiff</th>\n",
       "    </tr>\n",
       "  </thead>\n",
       "  <tbody>\n",
       "    <tr>\n",
       "      <th>0</th>\n",
       "      <td>2010</td>\n",
       "      <td>1115.0</td>\n",
       "      <td>1457.0</td>\n",
       "      <td>1.0</td>\n",
       "      <td>BIH</td>\n",
       "      <td>224.0</td>\n",
       "      <td>BIH</td>\n",
       "      <td>203.0</td>\n",
       "      <td>21.0</td>\n",
       "    </tr>\n",
       "    <tr>\n",
       "      <th>49</th>\n",
       "      <td>2010</td>\n",
       "      <td>1115.0</td>\n",
       "      <td>1457.0</td>\n",
       "      <td>1.0</td>\n",
       "      <td>BOB</td>\n",
       "      <td>221.0</td>\n",
       "      <td>BOB</td>\n",
       "      <td>198.0</td>\n",
       "      <td>23.0</td>\n",
       "    </tr>\n",
       "  </tbody>\n",
       "</table>\n",
       "</div>"
      ],
      "text/plain": [
       "    Season   Team1   Team2  Result SystemName1  OrdinalRank1 SystemName2  \\\n",
       "0     2010  1115.0  1457.0     1.0         BIH         224.0         BIH   \n",
       "49    2010  1115.0  1457.0     1.0         BOB         221.0         BOB   \n",
       "\n",
       "    OrdinalRank2  RankDiff  \n",
       "0          203.0      21.0  \n",
       "49         198.0      23.0  "
      ]
     },
     "execution_count": 82,
     "metadata": {},
     "output_type": "execute_result"
    }
   ],
   "source": [
    "#calculate difference in rank for each game\n",
    "ordinal_tourney = games_and_ranks[games_and_ranks[\"SystemName1\"] == games_and_ranks[\"SystemName2\"]]\n",
    "ordinal_tourney[\"RankDiff\"] = ordinal_tourney[\"OrdinalRank1\"] - ordinal_tourney[\"OrdinalRank2\"]\n",
    "ordinal_tourney.head(2)"
   ]
  },
  {
   "cell_type": "code",
   "execution_count": 96,
   "id": "ee7f7e81",
   "metadata": {},
   "outputs": [
    {
     "data": {
      "text/html": [
       "<div>\n",
       "<style scoped>\n",
       "    .dataframe tbody tr th:only-of-type {\n",
       "        vertical-align: middle;\n",
       "    }\n",
       "\n",
       "    .dataframe tbody tr th {\n",
       "        vertical-align: top;\n",
       "    }\n",
       "\n",
       "    .dataframe thead th {\n",
       "        text-align: right;\n",
       "    }\n",
       "</style>\n",
       "<table border=\"1\" class=\"dataframe\">\n",
       "  <thead>\n",
       "    <tr style=\"text-align: right;\">\n",
       "      <th></th>\n",
       "      <th>Season</th>\n",
       "      <th>Team1</th>\n",
       "      <th>Team2</th>\n",
       "      <th>Result</th>\n",
       "      <th>RankDiff</th>\n",
       "    </tr>\n",
       "  </thead>\n",
       "  <tbody>\n",
       "    <tr>\n",
       "      <th>0</th>\n",
       "      <td>2010</td>\n",
       "      <td>1115.0</td>\n",
       "      <td>1181.0</td>\n",
       "      <td>0.0</td>\n",
       "      <td>225.333333</td>\n",
       "    </tr>\n",
       "    <tr>\n",
       "      <th>1</th>\n",
       "      <td>2010</td>\n",
       "      <td>1115.0</td>\n",
       "      <td>1457.0</td>\n",
       "      <td>1.0</td>\n",
       "      <td>37.541667</td>\n",
       "    </tr>\n",
       "  </tbody>\n",
       "</table>\n",
       "</div>"
      ],
      "text/plain": [
       "   Season   Team1   Team2  Result    RankDiff\n",
       "0    2010  1115.0  1181.0     0.0  225.333333\n",
       "1    2010  1115.0  1457.0     1.0   37.541667"
      ]
     },
     "execution_count": 96,
     "metadata": {},
     "output_type": "execute_result"
    }
   ],
   "source": [
    "#average rank\n",
    "ordinal_avg_tourney = ordinal_tourney.groupby([\"Season\", \"Team1\", \"Team2\", \"Result\"]).mean()[\"RankDiff\"].reset_index()\n",
    "ordinal_avg_tourney.head(2)"
   ]
  },
  {
   "cell_type": "code",
   "execution_count": 102,
   "id": "20f76e36",
   "metadata": {},
   "outputs": [],
   "source": [
    "#\"best\" systems' + their average ranks - these systems were chosen by investigating the full logistic regression model,\n",
    "#which included all systems as categoricals. Systems that had a p-value below .25 are included here.\n",
    "ordinal_best_tourney = ordinal_tourney[ordinal_tourney[\"SystemName1\"].isin([\"ADE\", \"AP\", \"ATP\", \"BAR\", \"BNM\", \"CJB\", \"HAT\", \"HRN\", \"TBD\", \"USA\"])]\n",
    "ordinal_best_avg_tourney = ordinal_best_tourney.groupby([\"Season\", \"Team1\", \"Team2\", \"Result\"]).mean()[\"RankDiff\"].reset_index()\n"
   ]
  },
  {
   "cell_type": "code",
   "execution_count": 103,
   "id": "3901c646",
   "metadata": {},
   "outputs": [],
   "source": [
    "#send to R for logistic regression\n",
    "ordinal_tourney.to_csv(\"ordinal_tourney.csv\")\n",
    "ordinal_avg_tourney.to_csv(\"ordinal_avg_tourney.csv\")\n",
    "ordinal_best_tourney.to_csv(\"ordinal_best_tourney.csv\")\n",
    "ordinal_best_avg_tourney.to_csv(\"ordinal_best_avg_tourney.csv\")"
   ]
  },
  {
   "cell_type": "markdown",
   "id": "37eeff5d",
   "metadata": {},
   "source": [
    "In investigating which ranking system is best, I found that taking the average of the ranking systems actually produces the best results."
   ]
  },
  {
   "cell_type": "code",
   "execution_count": null,
   "id": "172b3822",
   "metadata": {},
   "outputs": [],
   "source": []
  }
 ],
 "metadata": {
  "kernelspec": {
   "display_name": "Python 3 (ipykernel)",
   "language": "python",
   "name": "python3"
  },
  "language_info": {
   "codemirror_mode": {
    "name": "ipython",
    "version": 3
   },
   "file_extension": ".py",
   "mimetype": "text/x-python",
   "name": "python",
   "nbconvert_exporter": "python",
   "pygments_lexer": "ipython3",
   "version": "3.9.13"
  }
 },
 "nbformat": 4,
 "nbformat_minor": 5
}
